{
 "cells": [
  {
   "cell_type": "code",
   "execution_count": 74,
   "metadata": {},
   "outputs": [],
   "source": [
    "import random\n",
    "import numpy as np\n",
    "import copy \n",
    "import queue\n",
    "import matplotlib.pyplot as plt\n",
    "\n",
    "class Building:\n",
    "    counter = 0\n",
    "    def __init__(self, num_resources=3, max_build_count=(1, 15), building_size_bounds=(1, 50), infinite_prob=0.0, infinite_buildings=False, struct_value_bounds=(1, 5)):\n",
    "        self.name = f\"{Building.counter}\"\n",
    "        Building.counter += 1\n",
    "        self.resource_values = np.random.randint(*struct_value_bounds, size=num_resources)\n",
    "        if infinite_buildings or np.random.rand() < infinite_prob:\n",
    "            self.max_build_count = np.inf\n",
    "        else:\n",
    "            self.max_build_count = np.random.randint(*max_build_count)\n",
    "        self.building_size = np.random.randint(*building_size_bounds)\n",
    "        self.built_locations = []\n",
    "        self.build_rem = self.max_build_count\n",
    "\n",
    "    def display(self):\n",
    "        print()\n",
    "        print(f\"Name: {self.name}\")\n",
    "        print(f\"Building Resource Values: {self.resource_values}\")\n",
    "        print(f\"Max Build Count: {self.max_build_count}\")\n",
    "        print(f\"Building Size: {self.building_size}\")\n",
    "        print(f\"Built Locations: {self.built_locations}\")\n",
    "        print(f\"Building_Remaining: {self.build_rem}\")\n",
    "        print()\n",
    "    \n",
    "\n",
    "class Land:\n",
    "    counter = 0\n",
    "    def __init__(self, space_range=(100, 500), num_resources=3, mean=.5, std=.2, bounds=(0,2), rounding=2):\n",
    "        self.name = f\"L{Land.counter}\"\n",
    "        Land.counter += 1\n",
    "        self.space = np.random.randint(space_range[0], space_range[1] + 1)\n",
    "        # Make guassian distribution between 0 and 2 centered around .5 with standard dev of .2 (if using default values)\n",
    "        self.resource_values = np.round(np.clip(np.random.normal(mean, std, num_resources), bounds[0], bounds[1]), rounding)\n",
    "        self.rem_space = self.space\n",
    "        self.built_buildings = []\n",
    "        self.building_prod = [0]*num_resources\n",
    "        self.calc_prod = [0]*num_resources\n",
    "\n",
    "    def construct_building(self, building):\n",
    "        # Run a check to see if the building can be made when looking at size/build contraints\n",
    "        if building.build_rem > 0 and building.building_size <= self.rem_space:\n",
    "            # Update Land variables\n",
    "            self.rem_space -= building.building_size\n",
    "            self.built_buildings.append(building.name)\n",
    "\n",
    "            # Update Building variables\n",
    "            building.build_rem -= 1\n",
    "            building.built_locations.append(self.name)\n",
    "\n",
    "            # Update resource production\n",
    "            self.building_prod += building.resource_values\n",
    "            self.calc_prod = self.resource_values * self.building_prod\n",
    "\n",
    "\n",
    "    def display(self):\n",
    "        print()\n",
    "        print(f\"Name: {self.name}\")\n",
    "        print(f\"Space: {self.space}\")\n",
    "        print(f\"Resource Values: {self.resource_values}\")\n",
    "        print(f\"Remaining_Space: {self.rem_space}\")\n",
    "        print(f\"Built Buildings List: {self.built_buildings}\")\n",
    "        print(f\"Building Production: {self.building_prod}\")\n",
    "        print(f\"Calc Production: {self.calc_prod}\")\n",
    "        print()"
   ]
  },
  {
   "cell_type": "code",
   "execution_count": 63,
   "metadata": {},
   "outputs": [],
   "source": [
    "############################### Problem Space Variables ################################\n",
    "\n",
    "# Prototype params to forumlate problem space, there are the default params\n",
    "\n",
    "# Resources Params\n",
    "num_resources=3\n",
    "\n",
    "# Building Params\n",
    "max_build_count=(1, 15)\n",
    "building_size_bounds=(1, 50)\n",
    "infinite_prob=0.0\n",
    "infinite_buildings=False\n",
    "struct_value_bounds=(1, 5)\n",
    "\n",
    "# Land Params\n",
    "space_range = (100, 500)\n",
    "mean=.5\n",
    "std=.2\n",
    "bounds=(0,2)\n",
    "rounding=2\n",
    "\n",
    "# Problem size \n",
    "# TODO, Balance this with params: max_build_count, building_size_bounds, space_range, create function f(max_build_count, building_size_bounds, space_range, sparsity_score) -> num_buildings, num_land\n",
    "# Where sparsity score is a value between (0,1) which detriminates some ratio between total building space available/total land space\n",
    "num_buildings = 20\n",
    "num_land = 5\n",
    "# If True Provide weighting scheme of resources ex [1, 0, 0] means you are only optimizing for resource 0, \n",
    "optimize_resource = False\n",
    "resource_weights = [1,1,1]\n",
    "\n"
   ]
  },
  {
   "cell_type": "code",
   "execution_count": 64,
   "metadata": {},
   "outputs": [],
   "source": [
    "# Use default params\n",
    "random_seed = 42\n",
    "random.seed(random_seed)\n",
    "np.random.seed(random_seed)\n",
    "buildings = [Building() for _ in range(num_buildings)]\n",
    "lands = [Land() for _ in range(num_land)]"
   ]
  },
  {
   "cell_type": "code",
   "execution_count": 65,
   "metadata": {},
   "outputs": [],
   "source": [
    "# Random Algorithm to distribute buildings randomly among lands\n",
    "# Algorithm Summary: Choose a piece of Land -> Fill Land with random buildings -> When full move to next land and repeat\n",
    "def random_algorithm(buildings, lands):\n",
    "    lands_copy = copy.deepcopy(lands)\n",
    "    buildings_copy = copy.deepcopy(buildings)\n",
    "    for land in lands_copy:\n",
    "        while land.rem_space > 0:\n",
    "            # Filter available buildings that can fit in the remaining space\n",
    "            available_buildings = [b for b in buildings_copy if b.building_size <= land.rem_space and b.build_rem > 0]\n",
    "            # No available buildings that can fit\n",
    "            if not available_buildings:\n",
    "                break\n",
    "            building = random.choice(available_buildings)\n",
    "            land.construct_building(building)\n",
    "    return buildings_copy, lands_copy\n",
    "\n",
    "# Greedy Algorithm to greedyly choose best building per land\n",
    "# Algorithm Summary: Create queue of best land based on resource values, then create queue based on best building/space efficiency,\n",
    "# place buildings until queue empty or land is filled repeat for all land\n",
    "def greedy_algorithm(buildings, lands):\n",
    "    lands_copy = copy.deepcopy(lands)\n",
    "    buildings_copy = copy.deepcopy(buildings)\n",
    "\n",
    "    # Sort lands by total resource values, richest land is at the top of the queue\n",
    "    lands_copy.sort(key=lambda land: sum(land.resource_values), reverse=True)\n",
    "\n",
    "    for land in lands_copy:\n",
    "        # Sort buildings by space efficiency (resource values*land resources)/building size\n",
    "        buildings_copy.sort(key=lambda building: sum((land.resource_values * building.resource_values)/building.building_size), reverse=True)\n",
    "\n",
    "        # Add most efficent building until no longer possible\n",
    "        for building in buildings_copy:\n",
    "            while (land.rem_space >= building.building_size) and building.build_rem >= 1:\n",
    "                land.construct_building(building)\n",
    "\n",
    "    return buildings_copy, lands_copy\n",
    "\n",
    "def calculate_total_production(lands):\n",
    "    total_production = np.zeros(num_resources)\n",
    "    for land in lands:\n",
    "        total_production += land.calc_prod\n",
    "    return total_production"
   ]
  },
  {
   "cell_type": "code",
   "execution_count": 89,
   "metadata": {},
   "outputs": [
    {
     "name": "stdout",
     "output_type": "stream",
     "text": [
      "Total Production Score with Random Algorithm: [120.19 137.8  110.32] \n",
      "Total Production: 368.31\n",
      "Total Production Score with Greedy Algorithm: [194.34 205.82 150.88] \n",
      "Total Production: 551.04\n"
     ]
    }
   ],
   "source": [
    "greedy_buildings, greedy_land = greedy_algorithm(buildings, lands)\n",
    "random_buildings, random_land = random_algorithm(buildings, lands)\n",
    "\n",
    "\n",
    "# Calculate and display total production score\n",
    "total_production_score = calculate_total_production(random_land)\n",
    "print(f\"Total Production Score with Random Algorithm: {total_production_score} \\nTotal Production: {sum(total_production_score)}\")\n",
    "\n",
    "total_production_score = calculate_total_production(greedy_land)\n",
    "print(f\"Total Production Score with Greedy Algorithm: {total_production_score} \\nTotal Production: {sum(total_production_score)}\")"
   ]
  },
  {
   "cell_type": "code",
   "execution_count": 76,
   "metadata": {},
   "outputs": [],
   "source": [
    "scores = []\n",
    "for i in range(1000000):\n",
    "    random_buildings, random_land = random_algorithm(buildings, lands)\n",
    "    total_production_score = calculate_total_production(random_land)\n",
    "    scores.append(sum(total_production_score))"
   ]
  },
  {
   "cell_type": "code",
   "execution_count": 97,
   "metadata": {},
   "outputs": [
    {
     "data": {
      "image/png": "[encoded data removed]",
      "text/plain": [
       "<Figure size 640x480 with 1 Axes>"
      ]
     },
     "metadata": {},
     "output_type": "display_data"
    }
   ],
   "source": [
    "plt.hist(scores, bins=70, edgecolor='black')\n",
    "\n",
    "# Set labels and title\n",
    "plt.xlabel('Total Production')\n",
    "plt.ylabel('Num_Samples')\n",
    "plt.title('Distribution Plot')\n",
    "\n",
    "# Show the plot\n",
    "plt.show()"
   ]
  },
  {
   "cell_type": "code",
   "execution_count": 82,
   "metadata": {},
   "outputs": [
    {
     "name": "stdout",
     "output_type": "stream",
     "text": [
      "Mean: 376.75\n",
      "Standard Deviation: 20.32\n",
      "Median: 376.78\n",
      "Minimum: 282.69\n",
      "Maximum: 482.31\n"
     ]
    }
   ],
   "source": [
    "# Print out of Randomized Stats\n",
    "print(f\"Mean: {np.round(np.mean(scores), 2)}\")\n",
    "print(f\"Standard Deviation: {np.round(np.std(scores), 2)}\")\n",
    "print(f\"Median: {np.median(scores)}\")\n",
    "print(f\"Minimum: {np.round(np.min(scores), 2)}\")\n",
    "print(f\"Maximum: {np.max(scores)}\")"
   ]
  },
  {
   "cell_type": "code",
   "execution_count": null,
   "metadata": {},
   "outputs": [],
   "source": []
  }
 ],
 "metadata": {
  "kernelspec": {
   "display_name": "Python 3",
   "language": "python",
   "name": "python3"
  },
  "language_info": {
   "codemirror_mode": {
    "name": "ipython",
    "version": 3
   },
   "file_extension": ".py",
   "mimetype": "text/x-python",
   "name": "python",
   "nbconvert_exporter": "python",
   "pygments_lexer": "ipython3",
   "version": "3.9.18"
  },
  "orig_nbformat": 4
 },
 "nbformat": 4,
 "nbformat_minor": 2
}
